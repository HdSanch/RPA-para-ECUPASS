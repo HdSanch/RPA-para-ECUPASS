{
 "cells": [
  {
   "cell_type": "markdown",
   "id": "0b565b3b",
   "metadata": {},
   "source": [
    "## Librerías"
   ]
  },
  {
   "cell_type": "code",
   "execution_count": 1,
   "id": "409aaffa",
   "metadata": {},
   "outputs": [],
   "source": [
    "import pyautogui\n",
    "import subprocess\n",
    "import time\n",
    "# import pytesseract\n",
    "import os\n",
    "from PIL import ImageGrab\n",
    "from dotenv import load_dotenv"
   ]
  },
  {
   "cell_type": "code",
   "execution_count": 2,
   "id": "1be6d9a2",
   "metadata": {},
   "outputs": [],
   "source": [
    "# Cargar las variables del archivo .env\n",
    "load_dotenv()\n",
    "\n",
    "# Obtener las credenciales de las variables de entorno\n",
    "ruc = os.getenv('RUC')\n",
    "ruc1 = os.getenv('RUC1')\n",
    "usuario = os.getenv('USUARIO')\n",
    "contrasena = os.getenv('CONTRASENA')"
   ]
  },
  {
   "cell_type": "markdown",
   "id": "46699a15",
   "metadata": {},
   "source": [
    "## Abrir Navegador"
   ]
  },
  {
   "cell_type": "code",
   "execution_count": 3,
   "id": "6b895559",
   "metadata": {},
   "outputs": [
    {
     "name": "stdout",
     "output_type": "stream",
     "text": [
      "Navegador SENAE abierto. Esperando 10 segundos...\n",
      "Listo para el siguiente paso.\n"
     ]
    }
   ],
   "source": [
    "ruta_navegador = \"C:\\\\Users\\\\Hernán\\\\Documents\\\\SENAE browser\\\\SENAE_browser_portable.exe\"\n",
    "subprocess.Popen(ruta_navegador)\n",
    "print(\"Navegador SENAE abierto. Esperando 10 segundos...\")\n",
    "time.sleep(10)\n",
    "print(\"Listo para el siguiente paso.\")"
   ]
  },
  {
   "cell_type": "code",
   "execution_count": 4,
   "id": "9ce19431",
   "metadata": {},
   "outputs": [
    {
     "name": "stdout",
     "output_type": "stream",
     "text": [
      "Clic en el botón de login realizado.\n"
     ]
    }
   ],
   "source": [
    "try:\n",
    "    boton_login = pyautogui.locateOnScreen('boton_ecuapass.png', confidence=0.8)\n",
    "    if boton_login is not None:\n",
    "        pyautogui.click(boton_login)\n",
    "        print(\"Clic en el botón de login realizado.\")\n",
    "    else:\n",
    "        print(\"No se encontró la imagen del botón de login en la pantalla.\")\n",
    "except Exception as e:\n",
    "    print(f\"Ocurrió un error: {e}\")"
   ]
  },
  {
   "cell_type": "code",
   "execution_count": 12,
   "id": "da57dcb7",
   "metadata": {},
   "outputs": [
    {
     "name": "stdout",
     "output_type": "stream",
     "text": [
      "Clic en el botón de login realizado.\n"
     ]
    }
   ],
   "source": [
    "try:\n",
    "    boton_login = pyautogui.locateOnScreen('check_acepto.png', confidence=0.8)\n",
    "    if boton_login is not None:\n",
    "        pyautogui.click(boton_login)\n",
    "        print(\"Clic en el botón de login realizado.\")\n",
    "    else:\n",
    "        print(\"No se encontró la imagen del botón de login en la pantalla.\")\n",
    "except Exception as e:\n",
    "    print(f\"Ocurrió un error: {e}\")"
   ]
  },
  {
   "cell_type": "code",
   "execution_count": 13,
   "id": "9d329021",
   "metadata": {},
   "outputs": [
    {
     "name": "stdout",
     "output_type": "stream",
     "text": [
      "Clic en el botón de login realizado.\n"
     ]
    }
   ],
   "source": [
    "try:\n",
    "    boton_login = pyautogui.locateOnScreen('boton_ejecutar.png', confidence=0.8)\n",
    "    if boton_login is not None:\n",
    "        pyautogui.click(boton_login)\n",
    "        print(\"Clic en el botón de login realizado.\")\n",
    "    else:\n",
    "        print(\"No se encontró la imagen del botón de login en la pantalla.\")\n",
    "except Exception as e:\n",
    "    print(f\"Ocurrió un error: {e}\")"
   ]
  },
  {
   "cell_type": "code",
   "execution_count": 14,
   "id": "9d3c0e09",
   "metadata": {},
   "outputs": [],
   "source": [
    "time.sleep(11)\n",
    "# Reemplaza 'imagen_campo_usuario.png' con tu propia imagen\n",
    "campo_usuario = pyautogui.locateOnScreen('campo_ruc.png', confidence=0.8)\n",
    "if campo_usuario is not None:\n",
    "    pyautogui.click(campo_usuario)\n",
    "    pyautogui.write(ruc)\n",
    "    pyautogui.press('tab') # Mueve el foco al siguiente campo\n",
    "    pyautogui.write(usuario)\n",
    "    pyautogui.press('tab') # Mueve el foco al siguiente campo\n",
    "    pyautogui.write(contrasena)\n",
    "    pyautogui.press('enter') # Simula presionar Enter para iniciar sesión\n",
    "else:\n",
    "    print(\"No se encontró el campo de usuario.\")"
   ]
  },
  {
   "cell_type": "code",
   "execution_count": null,
   "id": "bb2709c8",
   "metadata": {},
   "outputs": [
    {
     "name": "stdout",
     "output_type": "stream",
     "text": [
      "Clic en el botón de login realizado.\n"
     ]
    }
   ],
   "source": [
    "try:\n",
    "    boton_login = pyautogui.locateOnScreen('imagen_boton_login.png', confidence=0.8)\n",
    "    if boton_login is not None:\n",
    "        pyautogui.click(boton_login)\n",
    "        print(\"Clic en el botón de login realizado.\")\n",
    "    else:\n",
    "        print(\"No se encontró la imagen del botón de login en la pantalla.\")\n",
    "except Exception as e:\n",
    "    print(f\"Ocurrió un error: {e}\")"
   ]
  },
  {
   "cell_type": "code",
   "execution_count": null,
   "id": "4e0e2d1d",
   "metadata": {},
   "outputs": [
    {
     "name": "stdout",
     "output_type": "stream",
     "text": [
      "Clic en el botón de login realizado.\n"
     ]
    }
   ],
   "source": [
    "time.sleep(3)\n",
    "try:\n",
    "    boton_login = pyautogui.locateOnScreen('boton_aceptar.png', confidence=0.8)\n",
    "    if boton_login is not None:\n",
    "        pyautogui.click(boton_login)\n",
    "        print(\"Clic en el botón de login realizado.\")\n",
    "    else:\n",
    "        print(\"No se encontró la imagen del botón de login en la pantalla.\")\n",
    "except Exception as e:\n",
    "    print(f\"Ocurrió un error: {e}\")"
   ]
  },
  {
   "cell_type": "code",
   "execution_count": 15,
   "id": "a649371b",
   "metadata": {},
   "outputs": [
    {
     "name": "stdout",
     "output_type": "stream",
     "text": [
      "Clic en el botón de login realizado.\n"
     ]
    }
   ],
   "source": [
    "try:\n",
    "    boton_login = pyautogui.locateOnScreen('ingresar.png', confidence=0.8)\n",
    "    if boton_login is not None:\n",
    "        pyautogui.click(boton_login)\n",
    "        print(\"Clic en el botón de login realizado.\")\n",
    "    else:\n",
    "        print(\"No se encontró la imagen del botón de login en la pantalla.\")\n",
    "except Exception as e:\n",
    "    print(f\"Ocurrió un error: {e}\")"
   ]
  },
  {
   "cell_type": "code",
   "execution_count": 19,
   "id": "f7b2fd50",
   "metadata": {},
   "outputs": [
    {
     "name": "stdout",
     "output_type": "stream",
     "text": [
      "Ocurrió un error: \n"
     ]
    }
   ],
   "source": [
    "try:\n",
    "    boton_login = pyautogui.locateOnScreen('boton_211.png', confidence=0.8)\n",
    "    if boton_login is not None:\n",
    "        pyautogui.click(boton_login)\n",
    "        print(\"Clic en el botón de login realizado.\")\n",
    "    else:\n",
    "        print(\"No se encontró la imagen del botón de login en la pantalla.\")\n",
    "except Exception as e:\n",
    "    print(f\"Ocurrió un error: {e}\")"
   ]
  },
  {
   "cell_type": "code",
   "execution_count": 18,
   "id": "a0b8941e",
   "metadata": {},
   "outputs": [
    {
     "name": "stdout",
     "output_type": "stream",
     "text": [
      "Clic en el botón de login realizado.\n"
     ]
    }
   ],
   "source": [
    "try:\n",
    "    boton_login = pyautogui.locateOnScreen('boton_servicios_informativos.png', confidence=0.8)\n",
    "    if boton_login is not None:\n",
    "        pyautogui.click(boton_login)\n",
    "        print(\"Clic en el botón de login realizado.\")\n",
    "    else:\n",
    "        print(\"No se encontró la imagen del botón de login en la pantalla.\")\n",
    "except Exception as e:\n",
    "    print(f\"Ocurrió un error: {e}\")"
   ]
  },
  {
   "cell_type": "code",
   "execution_count": 30,
   "id": "af2d3abb",
   "metadata": {},
   "outputs": [
    {
     "name": "stdout",
     "output_type": "stream",
     "text": [
      "Ocurrió un error: \n"
     ]
    }
   ],
   "source": [
    "try:\n",
    "    boton_login = pyautogui.locateOnScreen('boton_servinfo.png', confidence=0.8)\n",
    "    if boton_login is not None:\n",
    "        pyautogui.click(boton_login)\n",
    "        print(\"Clic en el botón de login realizado.\")\n",
    "    else:\n",
    "        print(\"No se encontró la imagen del botón de login en la pantalla.\")\n",
    "except Exception as e:\n",
    "    print(f\"Ocurrió un error: {e}\")"
   ]
  },
  {
   "cell_type": "code",
   "execution_count": null,
   "id": "5baba5ef",
   "metadata": {},
   "outputs": [
    {
     "name": "stdout",
     "output_type": "stream",
     "text": [
      "Clic en botón 'Seleccionar' de Consulta de liquidación\n"
     ]
    }
   ],
   "source": [
    "texto = pyautogui.locateOnScreen('texto_consulta_liquidacion.png', confidence=0.9)\n",
    "\n",
    "if texto:\n",
    "    # Coordenadas del área donde está el texto\n",
    "    x, y, w, h = texto\n",
    "\n",
    "    # 2. Definir una región a la derecha del texto (toda la fila)\n",
    "    region = (x + w, y - 5, 500, h + 10)  \n",
    "    # (x desde el final del texto, y con pequeño margen, ancho 500px, altura un poco mayor)\n",
    "\n",
    "    # 3. Buscar el botón \"Seleccionar\" en esa región\n",
    "    boton = pyautogui.locateOnScreen('boton_seleccionar_liquidacion.png', confidence=0.9, region=region)\n",
    "\n",
    "    if boton:\n",
    "        pyautogui.click(pyautogui.center(boton))\n",
    "        print(\"Clic en botón 'Seleccionar' de Consulta de liquidación\")\n",
    "    else:\n",
    "        print(\"No se encontró el botón 'Seleccionar' en la fila de Consulta de liquidación\")\n",
    "else:\n",
    "    print(\"No se encontró el texto 'Consulta de liquidación'\")"
   ]
  },
  {
   "cell_type": "code",
   "execution_count": 56,
   "id": "ccd6f4b0",
   "metadata": {},
   "outputs": [],
   "source": [
    "# Reemplaza 'imagen_campo_usuario.png' con tu propia imagen\n",
    "campo_usuario = pyautogui.locateOnScreen('campo_codigo_contribuyente.png', confidence=0.8)\n",
    "if campo_usuario is not None:\n",
    "    pyautogui.click(campo_usuario)\n",
    "    pyautogui.write(ruc)\n",
    "else:\n",
    "    print(\"No se encontró el campo de usuario.\")"
   ]
  },
  {
   "cell_type": "code",
   "execution_count": 57,
   "id": "1b12bec3",
   "metadata": {},
   "outputs": [
    {
     "name": "stdout",
     "output_type": "stream",
     "text": [
      "Seleccionado día 1\n",
      "Avanzados 2 meses\n",
      "Seleccionado último día: boton_calendario_31.png\n"
     ]
    }
   ],
   "source": [
    "# --- 1. Encontrar los dos botones de calendario ---\n",
    "calendarios = list(pyautogui.locateAllOnScreen('calendario.png', confidence=0.8))\n",
    "\n",
    "if len(calendarios) < 2:\n",
    "    print(\"No se encontraron los dos botones calendario\")\n",
    "    exit()\n",
    "\n",
    "# --- 2. Click en el primero y seleccionar el día 1 ---\n",
    "x1, y1 = pyautogui.center(calendarios[0])\n",
    "pyautogui.click(x1, y1)  # abre calendario\n",
    "time.sleep(0.5)\n",
    "\n",
    "# Aquí debes poner la imagen del \"día 1\" en el calendario\n",
    "dia1 = pyautogui.locateOnScreen('boton_calendario_1.png', confidence=0.9)\n",
    "if dia1:\n",
    "    pyautogui.click(pyautogui.center(dia1))\n",
    "    print(\"Seleccionado día 1\")\n",
    "else:\n",
    "    print(\"No se encontró el día 1 en el calendario\")\n",
    "\n",
    "time.sleep(0.5)\n",
    "\n",
    "# --- 3. Click en el segundo calendario ---\n",
    "x2, y2 = pyautogui.center(calendarios[1])\n",
    "pyautogui.click(x2, y2)\n",
    "time.sleep(0.5)\n",
    "\n",
    "# --- 4. Avanzar 2 meses con la flecha derecha ---\n",
    "flecha = pyautogui.locateOnScreen('boton_flecha_derecha.png', confidence=0.9)\n",
    "if flecha:\n",
    "    fx, fy = pyautogui.center(flecha)\n",
    "    pyautogui.click(fx, fy)  # mes siguiente\n",
    "    time.sleep(0.3)\n",
    "    pyautogui.click(fx, fy)  # otro mes\n",
    "    print(\"Avanzados 2 meses\")\n",
    "else:\n",
    "    print(\"No se encontró la flecha derecha\")\n",
    "\n",
    "time.sleep(0.5)\n",
    "\n",
    "# --- 5. Seleccionar último día del mes ---\n",
    "# Puedes tener varias imágenes: 28, 29, 30 y 31\n",
    "for img in [\"boton_calendario_31.png\", \"boton_calendario_30.png\", \"boton_calendario_29.png\", \"boton_calendario_28.png\"]:\n",
    "    ultimo = pyautogui.locateOnScreen(img, confidence=0.9)\n",
    "    if ultimo:\n",
    "        pyautogui.click(pyautogui.center(ultimo))\n",
    "        print(f\"Seleccionado último día: {img}\")\n",
    "        break\n",
    "else:\n",
    "    print(\"No se encontró el último día del mes\")\n"
   ]
  },
  {
   "cell_type": "code",
   "execution_count": 58,
   "id": "f282a3c1",
   "metadata": {},
   "outputs": [],
   "source": [
    "# Reemplaza 'imagen_campo_usuario.png' con tu propia imagen\n",
    "campo_usuario = pyautogui.locateOnScreen('boton_consultar_liquidacion.png', confidence=0.8)\n",
    "if campo_usuario is not None:\n",
    "    pyautogui.click(campo_usuario)\n",
    "    pyautogui.write(ruc)\n",
    "else:\n",
    "    print(\"No se encontró el campo de usuario.\")"
   ]
  },
  {
   "cell_type": "markdown",
   "id": "02121000",
   "metadata": {},
   "source": [
    "# Se exporta en excel"
   ]
  },
  {
   "cell_type": "code",
   "execution_count": 59,
   "id": "31740045",
   "metadata": {},
   "outputs": [],
   "source": [
    "# Reemplaza 'imagen_campo_usuario.png' con tu propia imagen\n",
    "campo_usuario = pyautogui.locateOnScreen('boton_exportar_excel.png', confidence=0.8)\n",
    "if campo_usuario is not None:\n",
    "    pyautogui.click(campo_usuario)\n",
    "    pyautogui.write(ruc)\n",
    "else:\n",
    "    print(\"No se encontró el campo de usuario.\")"
   ]
  },
  {
   "cell_type": "code",
   "execution_count": null,
   "id": "c84b4633",
   "metadata": {},
   "outputs": [
    {
     "name": "stderr",
     "output_type": "stream",
     "text": [
      "Neither CUDA nor MPS are available - defaulting to CPU. Note: This module is much faster with a GPU.\n",
      "C:\\Users\\Hernán\\AppData\\Local\\Packages\\PythonSoftwareFoundation.Python.3.11_qbz5n2kfra8p0\\LocalCache\\local-packages\\Python311\\site-packages\\torch\\utils\\data\\dataloader.py:666: UserWarning: 'pin_memory' argument is set as true but no accelerator is found, then device pinned memory won't be used.\n",
      "  warnings.warn(warn_msg)\n"
     ]
    },
    {
     "name": "stdout",
     "output_type": "stream",
     "text": [
      "Texto extraído de la factura:\n",
      "SENAE\n",
      "BUZON SENAE\n",
      "COMUNICADO DE ECUAPASS\n",
      "ACTUALIZACION DEL ES\n",
      "24/09/2025 12,48,4\n",
      "Buzon Electronic\n",
      "Aduana inicia\n",
      "proceso de\n",
      "Trámites\n",
      "Servicios\n",
      "Soporte al\n",
      "Ventanilla\n",
      "Homologación\n",
      "Operativos\n",
      "informativos\n",
      "Cliente\n",
      "Unica\n",
      "Atualiaacicn\n",
      "IoraacCiod\n",
      "ooguk =\n",
      "raoC2\n",
      "odmi\n",
      "nofuroofoc\n",
      "conod\n"
     ]
    }
   ],
   "source": [
    "# import easyocr\n",
    "# from PIL import ImageGrab\n",
    "# import numpy as np\n",
    "\n",
    "# # Inicializa el lector de OCR\n",
    "# # El modelo se descargará automáticamente la primera vez que lo uses\n",
    "# reader = easyocr.Reader(['es']) # 'es' para idioma español\n",
    "\n",
    "# # Define el área de la pantalla para la captura\n",
    "# area_factura = (470, 345, 1434, 501)\n",
    "# captura_factura = ImageGrab.grab(bbox=area_factura)\n",
    "\n",
    "# # Convierte la imagen a un array de NumPy (formato necesario para easyocr)\n",
    "# captura_np = np.array(captura_factura)\n",
    "\n",
    "# # Realiza el reconocimiento de texto\n",
    "# resultados = reader.readtext(captura_np)\n",
    "\n",
    "# print(\"Texto extraído de la factura:\")\n",
    "\n",
    "# # Itera sobre los resultados para imprimir solo el texto\n",
    "# for (bbox, texto, prob) in resultados:\n",
    "#     # print(f\"Texto: {texto}, Probabilidad: {prob:.2f}\")\n",
    "#     print(f\"{texto}\")"
   ]
  },
  {
   "cell_type": "code",
   "execution_count": null,
   "id": "4c59e72e",
   "metadata": {},
   "outputs": [
    {
     "name": "stdout",
     "output_type": "stream",
     "text": [
      "Coloca el cursor en la esquina superior izquierda del área y presiona Enter\n"
     ]
    }
   ],
   "source": [
    "# import pyautogui\n",
    "# import time\n",
    "\n",
    "# # Mueve el cursor al punto superior izquierdo y presiona Enter\n",
    "# print(\"Coloca el cursor en la esquina superior izquierda del área y presiona Enter\")\n",
    "# input()\n",
    "# x1, y1 = pyautogui.position()\n",
    "# print(f\"Coordenadas de inicio: ({x1}, {y1})\")\n",
    "\n",
    "# # Mueve el cursor al punto inferior derecho y presiona Enter\n",
    "# print(\"Coloca el cursor en la esquina inferior derecha del área y presiona Enter\")\n",
    "# input()\n",
    "# x2, y2 = pyautogui.position()\n",
    "# print(f\"Coordenadas de fin: ({x2}, {y2})\")\n",
    "\n",
    "# # Muestra las coordenadas del rectángulo\n",
    "# print(f\"El área de captura es: ({x1}, {y1}, {x2}, {y2})\")\n",
    "\n",
    "# Ahora puedes usar estas coordenadas en tu código principal\n",
    "# area_factura = (x1, y1, x2, y2)"
   ]
  },
  {
   "cell_type": "code",
   "execution_count": null,
   "id": "59f2955c",
   "metadata": {},
   "outputs": [],
   "source": []
  }
 ],
 "metadata": {
  "kernelspec": {
   "display_name": "Python 3",
   "language": "python",
   "name": "python3"
  },
  "language_info": {
   "codemirror_mode": {
    "name": "ipython",
    "version": 3
   },
   "file_extension": ".py",
   "mimetype": "text/x-python",
   "name": "python",
   "nbconvert_exporter": "python",
   "pygments_lexer": "ipython3",
   "version": "3.11.9"
  }
 },
 "nbformat": 4,
 "nbformat_minor": 5
}
