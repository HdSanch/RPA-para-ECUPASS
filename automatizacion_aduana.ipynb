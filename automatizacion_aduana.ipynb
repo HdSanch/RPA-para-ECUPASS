{
 "cells": [
  {
   "cell_type": "markdown",
   "id": "0b565b3b",
   "metadata": {},
   "source": [
    "## Librerías"
   ]
  },
  {
   "cell_type": "code",
   "execution_count": 61,
   "id": "409aaffa",
   "metadata": {},
   "outputs": [],
   "source": [
    "import pyautogui\n",
    "import subprocess\n",
    "import time\n",
    "import pytesseract\n",
    "import os\n",
    "from PIL import ImageGrab\n",
    "from dotenv import load_dotenv"
   ]
  },
  {
   "cell_type": "code",
   "execution_count": 62,
   "id": "1be6d9a2",
   "metadata": {},
   "outputs": [],
   "source": [
    "# Cargar las variables del archivo .env\n",
    "load_dotenv()\n",
    "\n",
    "# Obtener las credenciales de las variables de entorno\n",
    "ruc = os.getenv('RUC')\n",
    "usuario = os.getenv('USUARIO')\n",
    "contrasena = os.getenv('CONTRASENA')"
   ]
  },
  {
   "cell_type": "markdown",
   "id": "46699a15",
   "metadata": {},
   "source": [
    "## Abrir Navegador"
   ]
  },
  {
   "cell_type": "code",
   "execution_count": 63,
   "id": "6b895559",
   "metadata": {},
   "outputs": [
    {
     "name": "stdout",
     "output_type": "stream",
     "text": [
      "Navegador SENAE abierto. Esperando 10 segundos...\n",
      "Listo para el siguiente paso.\n"
     ]
    }
   ],
   "source": [
    "ruta_navegador = \"C:\\\\Users\\\\Hernán\\\\Documents\\\\SENAE browser\\\\SENAE_browser_portable.exe\"\n",
    "subprocess.Popen(ruta_navegador)\n",
    "print(\"Navegador SENAE abierto. Esperando 10 segundos...\")\n",
    "time.sleep(10)\n",
    "print(\"Listo para el siguiente paso.\")"
   ]
  },
  {
   "cell_type": "code",
   "execution_count": 64,
   "id": "9ce19431",
   "metadata": {},
   "outputs": [
    {
     "name": "stdout",
     "output_type": "stream",
     "text": [
      "Clic en el botón de login realizado.\n"
     ]
    }
   ],
   "source": [
    "try:\n",
    "    boton_login = pyautogui.locateOnScreen('boton_ecuapass.png', confidence=0.8)\n",
    "    if boton_login is not None:\n",
    "        pyautogui.click(boton_login)\n",
    "        print(\"Clic en el botón de login realizado.\")\n",
    "    else:\n",
    "        print(\"No se encontró la imagen del botón de login en la pantalla.\")\n",
    "except Exception as e:\n",
    "    print(f\"Ocurrió un error: {e}\")"
   ]
  },
  {
   "cell_type": "code",
   "execution_count": 65,
   "id": "9d3c0e09",
   "metadata": {},
   "outputs": [],
   "source": [
    "time.sleep(11)\n",
    "# Reemplaza 'imagen_campo_usuario.png' con tu propia imagen\n",
    "campo_usuario = pyautogui.locateOnScreen('campo_ruc.png', confidence=0.8)\n",
    "if campo_usuario is not None:\n",
    "    pyautogui.click(campo_usuario)\n",
    "    pyautogui.write(ruc)\n",
    "    pyautogui.press('tab') # Mueve el foco al siguiente campo\n",
    "    pyautogui.write(usuario)\n",
    "    pyautogui.press('tab') # Mueve el foco al siguiente campo\n",
    "    pyautogui.write(contrasena)\n",
    "    pyautogui.press('enter') # Simula presionar Enter para iniciar sesión\n",
    "else:\n",
    "    print(\"No se encontró el campo de usuario.\")"
   ]
  },
  {
   "cell_type": "code",
   "execution_count": 66,
   "id": "bb2709c8",
   "metadata": {},
   "outputs": [
    {
     "name": "stdout",
     "output_type": "stream",
     "text": [
      "Clic en el botón de login realizado.\n"
     ]
    }
   ],
   "source": [
    "try:\n",
    "    boton_login = pyautogui.locateOnScreen('imagen_boton_login.png', confidence=0.8)\n",
    "    if boton_login is not None:\n",
    "        pyautogui.click(boton_login)\n",
    "        print(\"Clic en el botón de login realizado.\")\n",
    "    else:\n",
    "        print(\"No se encontró la imagen del botón de login en la pantalla.\")\n",
    "except Exception as e:\n",
    "    print(f\"Ocurrió un error: {e}\")"
   ]
  },
  {
   "cell_type": "code",
   "execution_count": 67,
   "id": "4e0e2d1d",
   "metadata": {},
   "outputs": [
    {
     "name": "stdout",
     "output_type": "stream",
     "text": [
      "Clic en el botón de login realizado.\n"
     ]
    }
   ],
   "source": [
    "time.sleep(3)\n",
    "try:\n",
    "    boton_login = pyautogui.locateOnScreen('boton_aceptar.png', confidence=0.8)\n",
    "    if boton_login is not None:\n",
    "        pyautogui.click(boton_login)\n",
    "        print(\"Clic en el botón de login realizado.\")\n",
    "    else:\n",
    "        print(\"No se encontró la imagen del botón de login en la pantalla.\")\n",
    "except Exception as e:\n",
    "    print(f\"Ocurrió un error: {e}\")"
   ]
  },
  {
   "cell_type": "code",
   "execution_count": 68,
   "id": "a649371b",
   "metadata": {},
   "outputs": [
    {
     "name": "stdout",
     "output_type": "stream",
     "text": [
      "Clic en el botón de login realizado.\n"
     ]
    }
   ],
   "source": [
    "try:\n",
    "    boton_login = pyautogui.locateOnScreen('ingresar.png', confidence=0.8)\n",
    "    if boton_login is not None:\n",
    "        pyautogui.click(boton_login)\n",
    "        print(\"Clic en el botón de login realizado.\")\n",
    "    else:\n",
    "        print(\"No se encontró la imagen del botón de login en la pantalla.\")\n",
    "except Exception as e:\n",
    "    print(f\"Ocurrió un error: {e}\")"
   ]
  },
  {
   "cell_type": "code",
   "execution_count": 69,
   "id": "c84b4633",
   "metadata": {},
   "outputs": [
    {
     "ename": "AttributeError",
     "evalue": "partially initialized module 'yaml' has no attribute 'error' (most likely due to a circular import)",
     "output_type": "error",
     "traceback": [
      "\u001b[31m---------------------------------------------------------------------------\u001b[39m",
      "\u001b[31mAttributeError\u001b[39m                            Traceback (most recent call last)",
      "\u001b[36mCell\u001b[39m\u001b[36m \u001b[39m\u001b[32mIn[69]\u001b[39m\u001b[32m, line 1\u001b[39m\n\u001b[32m----> \u001b[39m\u001b[32m1\u001b[39m \u001b[38;5;28;01mimport\u001b[39;00m\u001b[38;5;250m \u001b[39m\u001b[34;01measyocr\u001b[39;00m\n\u001b[32m      2\u001b[39m \u001b[38;5;28;01mfrom\u001b[39;00m\u001b[38;5;250m \u001b[39m\u001b[34;01mPIL\u001b[39;00m\u001b[38;5;250m \u001b[39m\u001b[38;5;28;01mimport\u001b[39;00m ImageGrab\n\u001b[32m      3\u001b[39m \u001b[38;5;28;01mimport\u001b[39;00m\u001b[38;5;250m \u001b[39m\u001b[34;01mnumpy\u001b[39;00m\u001b[38;5;250m \u001b[39m\u001b[38;5;28;01mas\u001b[39;00m\u001b[38;5;250m \u001b[39m\u001b[34;01mnp\u001b[39;00m\n",
      "\u001b[36mFile \u001b[39m\u001b[32m~\\AppData\\Local\\Packages\\PythonSoftwareFoundation.Python.3.11_qbz5n2kfra8p0\\LocalCache\\local-packages\\Python311\\site-packages\\easyocr\\__init__.py:1\u001b[39m\n\u001b[32m----> \u001b[39m\u001b[32m1\u001b[39m \u001b[38;5;28;01mfrom\u001b[39;00m\u001b[38;5;250m \u001b[39m\u001b[34;01m.\u001b[39;00m\u001b[34;01measyocr\u001b[39;00m\u001b[38;5;250m \u001b[39m\u001b[38;5;28;01mimport\u001b[39;00m Reader\n\u001b[32m      3\u001b[39m __version__ = \u001b[33m'\u001b[39m\u001b[33m1.7.2\u001b[39m\u001b[33m'\u001b[39m\n",
      "\u001b[36mFile \u001b[39m\u001b[32m~\\AppData\\Local\\Packages\\PythonSoftwareFoundation.Python.3.11_qbz5n2kfra8p0\\LocalCache\\local-packages\\Python311\\site-packages\\easyocr\\easyocr.py:17\u001b[39m\n\u001b[32m     15\u001b[39m \u001b[38;5;28;01mfrom\u001b[39;00m\u001b[38;5;250m \u001b[39m\u001b[34;01mPIL\u001b[39;00m\u001b[38;5;250m \u001b[39m\u001b[38;5;28;01mimport\u001b[39;00m Image\n\u001b[32m     16\u001b[39m \u001b[38;5;28;01mfrom\u001b[39;00m\u001b[38;5;250m \u001b[39m\u001b[34;01mlogging\u001b[39;00m\u001b[38;5;250m \u001b[39m\u001b[38;5;28;01mimport\u001b[39;00m getLogger\n\u001b[32m---> \u001b[39m\u001b[32m17\u001b[39m \u001b[38;5;28;01mimport\u001b[39;00m\u001b[38;5;250m \u001b[39m\u001b[34;01myaml\u001b[39;00m\n\u001b[32m     18\u001b[39m \u001b[38;5;28;01mimport\u001b[39;00m\u001b[38;5;250m \u001b[39m\u001b[34;01mjson\u001b[39;00m\n\u001b[32m     20\u001b[39m \u001b[38;5;28;01mif\u001b[39;00m sys.version_info[\u001b[32m0\u001b[39m] == \u001b[32m2\u001b[39m:\n",
      "\u001b[36mFile \u001b[39m\u001b[32m~\\AppData\\Local\\Packages\\PythonSoftwareFoundation.Python.3.11_qbz5n2kfra8p0\\LocalCache\\local-packages\\Python311\\site-packages\\yaml\\__init__.py:13\u001b[39m\n\u001b[32m     11\u001b[39m __version__ = \u001b[33m'\u001b[39m\u001b[33m6.0.2\u001b[39m\u001b[33m'\u001b[39m\n\u001b[32m     12\u001b[39m \u001b[38;5;28;01mtry\u001b[39;00m:\n\u001b[32m---> \u001b[39m\u001b[32m13\u001b[39m     \u001b[38;5;28;01mfrom\u001b[39;00m\u001b[38;5;250m \u001b[39m\u001b[34;01m.\u001b[39;00m\u001b[34;01mcyaml\u001b[39;00m\u001b[38;5;250m \u001b[39m\u001b[38;5;28;01mimport\u001b[39;00m *\n\u001b[32m     14\u001b[39m     __with_libyaml__ = \u001b[38;5;28;01mTrue\u001b[39;00m\n\u001b[32m     15\u001b[39m \u001b[38;5;28;01mexcept\u001b[39;00m \u001b[38;5;167;01mImportError\u001b[39;00m:\n",
      "\u001b[36mFile \u001b[39m\u001b[32m~\\AppData\\Local\\Packages\\PythonSoftwareFoundation.Python.3.11_qbz5n2kfra8p0\\LocalCache\\local-packages\\Python311\\site-packages\\yaml\\cyaml.py:7\u001b[39m\n\u001b[32m      2\u001b[39m __all__ = [\n\u001b[32m      3\u001b[39m     \u001b[33m'\u001b[39m\u001b[33mCBaseLoader\u001b[39m\u001b[33m'\u001b[39m, \u001b[33m'\u001b[39m\u001b[33mCSafeLoader\u001b[39m\u001b[33m'\u001b[39m, \u001b[33m'\u001b[39m\u001b[33mCFullLoader\u001b[39m\u001b[33m'\u001b[39m, \u001b[33m'\u001b[39m\u001b[33mCUnsafeLoader\u001b[39m\u001b[33m'\u001b[39m, \u001b[33m'\u001b[39m\u001b[33mCLoader\u001b[39m\u001b[33m'\u001b[39m,\n\u001b[32m      4\u001b[39m     \u001b[33m'\u001b[39m\u001b[33mCBaseDumper\u001b[39m\u001b[33m'\u001b[39m, \u001b[33m'\u001b[39m\u001b[33mCSafeDumper\u001b[39m\u001b[33m'\u001b[39m, \u001b[33m'\u001b[39m\u001b[33mCDumper\u001b[39m\u001b[33m'\u001b[39m\n\u001b[32m      5\u001b[39m ]\n\u001b[32m----> \u001b[39m\u001b[32m7\u001b[39m \u001b[38;5;28;01mfrom\u001b[39;00m\u001b[38;5;250m \u001b[39m\u001b[34;01myaml\u001b[39;00m\u001b[34;01m.\u001b[39;00m\u001b[34;01m_yaml\u001b[39;00m\u001b[38;5;250m \u001b[39m\u001b[38;5;28;01mimport\u001b[39;00m CParser, CEmitter\n\u001b[32m      9\u001b[39m \u001b[38;5;28;01mfrom\u001b[39;00m\u001b[38;5;250m \u001b[39m\u001b[34;01m.\u001b[39;00m\u001b[34;01mconstructor\u001b[39;00m\u001b[38;5;250m \u001b[39m\u001b[38;5;28;01mimport\u001b[39;00m *\n\u001b[32m     11\u001b[39m \u001b[38;5;28;01mfrom\u001b[39;00m\u001b[38;5;250m \u001b[39m\u001b[34;01m.\u001b[39;00m\u001b[34;01mserializer\u001b[39;00m\u001b[38;5;250m \u001b[39m\u001b[38;5;28;01mimport\u001b[39;00m *\n",
      "\u001b[36mFile \u001b[39m\u001b[32myaml\\\\_yaml.pyx:15\u001b[39m, in \u001b[36minit yaml._yaml\u001b[39m\u001b[34m()\u001b[39m\n",
      "\u001b[31mAttributeError\u001b[39m: partially initialized module 'yaml' has no attribute 'error' (most likely due to a circular import)"
     ]
    }
   ],
   "source": [
    "import easyocr\n",
    "from PIL import ImageGrab\n",
    "import numpy as np\n",
    "\n",
    "# Inicializa el lector de OCR\n",
    "# El modelo se descargará automáticamente la primera vez que lo uses\n",
    "reader = easyocr.Reader(['es']) # 'es' para idioma español\n",
    "\n",
    "# Define el área de la pantalla para la captura\n",
    "area_factura = (470, 345, 1434, 501)\n",
    "captura_factura = ImageGrab.grab(bbox=area_factura)\n",
    "\n",
    "# Convierte la imagen a un array de NumPy (formato necesario para easyocr)\n",
    "captura_np = np.array(captura_factura)\n",
    "\n",
    "# Realiza el reconocimiento de texto\n",
    "resultados = reader.readtext(captura_np)\n",
    "\n",
    "print(\"Texto extraído de la factura:\")\n",
    "\n",
    "# Itera sobre los resultados para imprimir solo el texto\n",
    "for (bbox, texto, prob) in resultados:\n",
    "    # print(f\"Texto: {texto}, Probabilidad: {prob:.2f}\")\n",
    "    print(f\"{texto}\")"
   ]
  },
  {
   "cell_type": "code",
   "execution_count": null,
   "id": "4c59e72e",
   "metadata": {},
   "outputs": [
    {
     "name": "stdout",
     "output_type": "stream",
     "text": [
      "Coloca el cursor en la esquina superior izquierda del área y presiona Enter\n",
      "Coordenadas de inicio: (470, 345)\n",
      "Coloca el cursor en la esquina inferior derecha del área y presiona Enter\n",
      "Coordenadas de fin: (1434, 501)\n",
      "El área de captura es: (470, 345, 1434, 501)\n"
     ]
    }
   ],
   "source": [
    "import pyautogui\n",
    "import time\n",
    "\n",
    "# Mueve el cursor al punto superior izquierdo y presiona Enter\n",
    "print(\"Coloca el cursor en la esquina superior izquierda del área y presiona Enter\")\n",
    "input()\n",
    "x1, y1 = pyautogui.position()\n",
    "print(f\"Coordenadas de inicio: ({x1}, {y1})\")\n",
    "\n",
    "# Mueve el cursor al punto inferior derecho y presiona Enter\n",
    "print(\"Coloca el cursor en la esquina inferior derecha del área y presiona Enter\")\n",
    "input()\n",
    "x2, y2 = pyautogui.position()\n",
    "print(f\"Coordenadas de fin: ({x2}, {y2})\")\n",
    "\n",
    "# Muestra las coordenadas del rectángulo\n",
    "print(f\"El área de captura es: ({x1}, {y1}, {x2}, {y2})\")\n",
    "\n",
    "# Ahora puedes usar estas coordenadas en tu código principal\n",
    "# area_factura = (x1, y1, x2, y2)"
   ]
  },
  {
   "cell_type": "code",
   "execution_count": null,
   "id": "59f2955c",
   "metadata": {},
   "outputs": [],
   "source": []
  }
 ],
 "metadata": {
  "kernelspec": {
   "display_name": "Python 3",
   "language": "python",
   "name": "python3"
  },
  "language_info": {
   "codemirror_mode": {
    "name": "ipython",
    "version": 3
   },
   "file_extension": ".py",
   "mimetype": "text/x-python",
   "name": "python",
   "nbconvert_exporter": "python",
   "pygments_lexer": "ipython3",
   "version": "3.11.9"
  }
 },
 "nbformat": 4,
 "nbformat_minor": 5
}
